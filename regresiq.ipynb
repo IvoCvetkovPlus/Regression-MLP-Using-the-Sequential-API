{
 "cells": [
  {
   "cell_type": "code",
   "execution_count": 29,
   "id": "89df97d5",
   "metadata": {},
   "outputs": [],
   "source": [
    "from sklearn.datasets import fetch_california_housing\n",
    "import pandas as pd\n",
    "import numpy as np\n",
    "import tensorflow as tf\n",
    "from tensorflow import keras"
   ]
  },
  {
   "cell_type": "code",
   "execution_count": 30,
   "id": "910fe145",
   "metadata": {},
   "outputs": [],
   "source": [
    "from sklearn.model_selection import train_test_split"
   ]
  },
  {
   "cell_type": "code",
   "execution_count": 31,
   "id": "7a35361b",
   "metadata": {},
   "outputs": [],
   "source": [
    "from sklearn.preprocessing import StandardScaler"
   ]
  },
  {
   "cell_type": "code",
   "execution_count": 32,
   "id": "f3cb2ed4",
   "metadata": {},
   "outputs": [],
   "source": [
    "housing = fetch_california_housing()"
   ]
  },
  {
   "cell_type": "code",
   "execution_count": 33,
   "id": "0a6a0178",
   "metadata": {},
   "outputs": [
    {
     "data": {
      "text/plain": [
       "dict_keys(['data', 'target', 'frame', 'target_names', 'feature_names', 'DESCR'])"
      ]
     },
     "execution_count": 33,
     "metadata": {},
     "output_type": "execute_result"
    }
   ],
   "source": [
    "housing.keys()"
   ]
  },
  {
   "cell_type": "code",
   "execution_count": 53,
   "id": "6e7a972a",
   "metadata": {},
   "outputs": [],
   "source": [
    "X_train_full,X_test,y_train_full,y_test = train_test_split(housing.data, housing.target)"
   ]
  },
  {
   "cell_type": "code",
   "execution_count": 54,
   "id": "5e5b30a2",
   "metadata": {},
   "outputs": [],
   "source": [
    "X_train,X_valid,y_train,y_valid = train_test_split(X_train_full,y_train_full)"
   ]
  },
  {
   "cell_type": "code",
   "execution_count": 55,
   "id": "4999bac7",
   "metadata": {},
   "outputs": [],
   "source": [
    "scaler = StandardScaler()"
   ]
  },
  {
   "cell_type": "code",
   "execution_count": 56,
   "id": "7010a1f0",
   "metadata": {},
   "outputs": [],
   "source": [
    "X_train = scaler.fit_transform(X_train)"
   ]
  },
  {
   "cell_type": "code",
   "execution_count": 57,
   "id": "9349096f",
   "metadata": {},
   "outputs": [],
   "source": [
    "X_valid = scaler.transform(X_valid)"
   ]
  },
  {
   "cell_type": "code",
   "execution_count": 58,
   "id": "9c733b19",
   "metadata": {},
   "outputs": [],
   "source": [
    "X_test = scaler.transform(X_test)\n"
   ]
  },
  {
   "cell_type": "code",
   "execution_count": 59,
   "id": "ecebe675",
   "metadata": {},
   "outputs": [],
   "source": [
    "model = keras.models.Sequential([\n",
    "    keras.layers.Dense(30,activation = 'relu', input_shape = X_train.shape[1:]),\n",
    "    keras.layers.Dense(1)\n",
    "])"
   ]
  },
  {
   "cell_type": "code",
   "execution_count": 60,
   "id": "ca1344b7",
   "metadata": {},
   "outputs": [],
   "source": [
    "model.compile(loss=\"mean_squared_error\",optimizer='sgd')"
   ]
  },
  {
   "cell_type": "code",
   "execution_count": 61,
   "id": "674404c3",
   "metadata": {},
   "outputs": [
    {
     "name": "stdout",
     "output_type": "stream",
     "text": [
      "Epoch 1/20\n",
      "363/363 [==============================] - 0s 1ms/step - loss: 0.8534 - val_loss: 0.5711\n",
      "Epoch 2/20\n",
      "363/363 [==============================] - 0s 815us/step - loss: 0.9698 - val_loss: 0.5453\n",
      "Epoch 3/20\n",
      "363/363 [==============================] - 0s 807us/step - loss: 0.4832 - val_loss: 0.5014\n",
      "Epoch 4/20\n",
      "363/363 [==============================] - 0s 818us/step - loss: 0.4534 - val_loss: 0.4675\n",
      "Epoch 5/20\n",
      "363/363 [==============================] - 0s 804us/step - loss: 0.4330 - val_loss: 0.4494\n",
      "Epoch 6/20\n",
      "363/363 [==============================] - 0s 815us/step - loss: 0.4199 - val_loss: 0.4390\n",
      "Epoch 7/20\n",
      "363/363 [==============================] - 0s 813us/step - loss: 0.4061 - val_loss: 0.4242\n",
      "Epoch 8/20\n",
      "363/363 [==============================] - 0s 818us/step - loss: 0.3970 - val_loss: 0.4196\n",
      "Epoch 9/20\n",
      "363/363 [==============================] - 0s 815us/step - loss: 0.3920 - val_loss: 0.4145\n",
      "Epoch 10/20\n",
      "363/363 [==============================] - 0s 810us/step - loss: 0.3870 - val_loss: 0.4065\n",
      "Epoch 11/20\n",
      "363/363 [==============================] - 0s 912us/step - loss: 0.3824 - val_loss: 0.4014\n",
      "Epoch 12/20\n",
      "363/363 [==============================] - 0s 846us/step - loss: 0.3789 - val_loss: 0.3975\n",
      "Epoch 13/20\n",
      "363/363 [==============================] - 0s 887us/step - loss: 0.3765 - val_loss: 0.3935\n",
      "Epoch 14/20\n",
      "363/363 [==============================] - 0s 826us/step - loss: 0.3723 - val_loss: 0.4051\n",
      "Epoch 15/20\n",
      "363/363 [==============================] - 0s 815us/step - loss: 0.3697 - val_loss: 0.3911\n",
      "Epoch 16/20\n",
      "363/363 [==============================] - 0s 818us/step - loss: 0.3703 - val_loss: 0.3900\n",
      "Epoch 17/20\n",
      "363/363 [==============================] - 0s 832us/step - loss: 0.3667 - val_loss: 0.3843\n",
      "Epoch 18/20\n",
      "363/363 [==============================] - 0s 829us/step - loss: 0.3632 - val_loss: 0.3902\n",
      "Epoch 19/20\n",
      "363/363 [==============================] - 0s 829us/step - loss: 0.3618 - val_loss: 0.3798\n",
      "Epoch 20/20\n",
      "363/363 [==============================] - 0s 926us/step - loss: 0.3667 - val_loss: 0.3862\n"
     ]
    }
   ],
   "source": [
    "\n",
    "history = model.fit(X_train, y_train, epochs=20,\n",
    "                   validation_data=(X_valid, y_valid))"
   ]
  },
  {
   "cell_type": "code",
   "execution_count": 62,
   "id": "0ae2e1b4",
   "metadata": {},
   "outputs": [
    {
     "name": "stdout",
     "output_type": "stream",
     "text": [
      "162/162 [==============================] - 0s 648us/step - loss: 0.3815\n"
     ]
    }
   ],
   "source": [
    "mse_test = model.evaluate(X_test,y_test)"
   ]
  },
  {
   "cell_type": "code",
   "execution_count": 63,
   "id": "faac27a4",
   "metadata": {},
   "outputs": [],
   "source": [
    "X_new = X_test[:3]\n",
    "y_pred = model.predict(X_new)"
   ]
  },
  {
   "cell_type": "code",
   "execution_count": 64,
   "id": "2d614896",
   "metadata": {},
   "outputs": [
    {
     "data": {
      "text/plain": [
       "array([[1.2966077],\n",
       "       [2.1996853],\n",
       "       [2.1034925]], dtype=float32)"
      ]
     },
     "execution_count": 64,
     "metadata": {},
     "output_type": "execute_result"
    }
   ],
   "source": [
    "y_pred"
   ]
  },
  {
   "cell_type": "code",
   "execution_count": null,
   "id": "a0a8b617",
   "metadata": {},
   "outputs": [],
   "source": []
  }
 ],
 "metadata": {
  "kernelspec": {
   "display_name": "Python 3",
   "language": "python",
   "name": "python3"
  },
  "language_info": {
   "codemirror_mode": {
    "name": "ipython",
    "version": 3
   },
   "file_extension": ".py",
   "mimetype": "text/x-python",
   "name": "python",
   "nbconvert_exporter": "python",
   "pygments_lexer": "ipython3",
   "version": "3.8.8"
  }
 },
 "nbformat": 4,
 "nbformat_minor": 5
}
